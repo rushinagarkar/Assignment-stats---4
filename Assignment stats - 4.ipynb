{
 "cells": [
  {
   "cell_type": "markdown",
   "id": "c76460ff",
   "metadata": {},
   "source": [
    "## Assignment stats - 4"
   ]
  },
  {
   "cell_type": "code",
   "execution_count": 2,
   "id": "347102ad",
   "metadata": {},
   "outputs": [],
   "source": [
    "import numpy as np"
   ]
  },
  {
   "cell_type": "markdown",
   "id": "fe425348",
   "metadata": {},
   "source": [
    "##### 1. Is gender independent of education level? A random sample of 395 people were surveyed and each person was asked to report the highest education level they obtained. The data that resulted from the survey is summarized in the following table:\n",
    "|High School |Bachelors| Masters| Ph.d.| Total| \n",
    "|---|---|---|---|---|\n",
    "|Female| 60| 54| 46| 41| 201| \n",
    "|Male  |40 |44 |53 |57 |194| \n",
    "|Total |100 |98 |99 |98| 395 |\n",
    " \n",
    "##### Question: Are gender and education level dependent at 5% level of significance? In other words, given the data collected above, is there a relationship between the gender of an individual and the level of education that they have obtained?"
   ]
  },
  {
   "cell_type": "markdown",
   "id": "508f50c7",
   "metadata": {},
   "source": [
    "Here's the table of expected counts:\n",
    "\n",
    "|High School\t| Bachelors|\tMasters|\tPh.d.|\tTotal|\n",
    "|---|---|---|---|---|\n",
    "|Female\t|50.886\t|49.868\t|50.377\t|49.868\t|201|\n",
    "|Male\t|49.114\t|48.132\t|48.623\t|48.132\t|194|\n",
    "|Total\t|100\t|98\t|99\t|98\t|395|\n",
    "\n",
    "So, working this out, \n",
    "\n",
    "X_2 = (60-50.886)^2/50.886 + ... + (57-48.132)^2/48.132\n",
    "\n",
    "X_2 = 8.006\n",
    "\n",
    "The critical value of X_2 with 3 degree of freedom is 7.815. Since 8.006 > 7.815, we reject the null hypothesis and conclude that the education level depends on gender at a 5% level of significance."
   ]
  },
  {
   "cell_type": "markdown",
   "id": "b671acc6",
   "metadata": {},
   "source": [
    "### 2.Using the following data, perform a oneway analysis of variance using α=.05. Write up the results in APA format.\n",
    "\n",
    "[Group1: 51, 45, 33, 45, 67] \n",
    "\n",
    "[Group2: 23, 43, 23, 43, 45]\n",
    "\n",
    "[Group3: 56, 76, 74, 87, 56]"
   ]
  },
  {
   "cell_type": "code",
   "execution_count": 3,
   "id": "e61c5a5a",
   "metadata": {},
   "outputs": [],
   "source": [
    "g1 = np.array([ 51, 45, 33, 45, 67])\n",
    "g1_mean = g1.mean()\n",
    "g1_dev = g1 - g1_mean\n",
    "g1_dev_2 = np.square(g1_dev)\n",
    "\n",
    "g2 = np.array([ 51, 45, 33, 45, 67])\n",
    "g2_mean = g2.mean()\n",
    "g2_dev = g2 - g2_mean\n",
    "g2_dev_2 = np.square(g2_dev)\n",
    "\n",
    "g3 = np.array([ 51, 45, 33, 45, 67])\n",
    "g3_mean = g3.mean()\n",
    "g3_dev = g3 - g3_mean\n",
    "g3_dev_2 = np.square(g3_dev)"
   ]
  },
  {
   "cell_type": "code",
   "execution_count": 4,
   "id": "f2cedda9",
   "metadata": {},
   "outputs": [],
   "source": [
    "# sum of squared dev\n",
    "g1ssd,g2ssd,g3ssd =  g1_dev_2.sum(), g2_dev_2.sum(),g3_dev_2.sum()\n",
    "\n",
    "#var\n",
    "var1 = g1ssd/(5-1)\n",
    "var2 = g2ssd/(5-1)\n",
    "var3 = g3ssd/(5-1)\n",
    "\n",
    "MSerror= (var1 + var2+ var3) /3\n",
    "\n",
    "# Note: this is just the average within-group variance; it is not sensitive to group mean differences!\n",
    "\n",
    "# Calculating the remaining error (or within) terms for the ANOVA table:\n",
    "\n",
    "dferror= 15 - 3\n",
    "\n",
    "SSerror=(155.07)*(15 - 3)\n",
    "\n",
    "# Intermediate steps in calculating the variance of the sample means:\n",
    "\n",
    "grand_mean  = (48.2+35.4+69.83)/3 # (x¯grand)"
   ]
  },
  {
   "cell_type": "raw",
   "id": "278f4f3c",
   "metadata": {},
   "source": [
    " group mean grand mean deviations sq deviations\n",
    "       48.2      51.13      -2.93          8.58\n",
    "       35.4      51.13     -15.73        247.43\n",
    "       69.8      51.13      18.67        348.57\n",
    "       "
   ]
  },
  {
   "cell_type": "code",
   "execution_count": 5,
   "id": "34e4737a",
   "metadata": {},
   "outputs": [],
   "source": [
    "group_mean = np.array([48.2, 35.4, 69.8])\n",
    "group_dev = group_mean - grand_mean\n",
    "group_dev = np.square(group_dev)"
   ]
  },
  {
   "cell_type": "code",
   "execution_count": 6,
   "id": "1713c0a1",
   "metadata": {},
   "outputs": [],
   "source": [
    "ssmeans = group_dev.sum()\n",
    "\n",
    "var_means = ssmeans/(3-1)\n",
    "ms_bet = var_means*5\n",
    "\n",
    "# Note: This method of estimating the variance IS sensitive to group mean differences!\n",
    "    \n",
    "# Calculating the remaining between (or group) terms of the ANOVA table:\n",
    "\n",
    "df_group = 3-1 \n",
    "ss_group = (ms_bet)*(3-1) \n",
    "\n",
    "\n",
    "# Test statistic and critical value\n",
    "\n",
    "F = ms_bet /155.07 \n",
    "\n",
    "F_c = 3.89  # (2,12)"
   ]
  },
  {
   "cell_type": "markdown",
   "id": "496d93c9",
   "metadata": {},
   "source": [
    "### We reject H0\n",
    "\n",
    "\n",
    "ANOVA table\n",
    "\n",
    "|source|SS|df|MS|F|\n",
    "|---|---|---|---|---|\n",
    "|group|3022.9|2|1511.45|9.75|\n",
    "|error|1860.8|12|155.07|\n",
    "|total|4883.7|||\n",
    "\n",
    "Effect size\n",
    "\n",
    "η2=3022.94883.7=0.62\n",
    "\n",
    "APA writeup\n",
    "\n",
    "F(2, 12)=9.75, p <0.05, η2=0.62."
   ]
  },
  {
   "cell_type": "markdown",
   "id": "b9fb3d02",
   "metadata": {},
   "source": [
    "### 3. Calculate F Test for given 10, 20, 30, 40, 50 and 5,10,15, 20, 25.\n",
    "For 10, 20, 30, 40, 50:"
   ]
  },
  {
   "cell_type": "code",
   "execution_count": 7,
   "id": "87bae675",
   "metadata": {},
   "outputs": [
    {
     "name": "stdout",
     "output_type": "stream",
     "text": [
      "F score\n",
      "4.0\n"
     ]
    }
   ],
   "source": [
    "g1 = np.array([10, 20, 30, 40, 50])\n",
    "g2 = np.array([5, 10, 15, 20, 25])\n",
    "\n",
    "n = 5 # for  both\n",
    "g1_var = g1.var()\n",
    "\n",
    "g2_var = g2.var()\n",
    "\n",
    "F = g1_var/g2_var\n",
    "\n",
    "print(\"F score\")\n",
    "print(F)"
   ]
  },
  {
   "cell_type": "code",
   "execution_count": null,
   "id": "6a8b5bce",
   "metadata": {},
   "outputs": [],
   "source": []
  }
 ],
 "metadata": {
  "kernelspec": {
   "display_name": "Python 3",
   "language": "python",
   "name": "python3"
  },
  "language_info": {
   "codemirror_mode": {
    "name": "ipython",
    "version": 3
   },
   "file_extension": ".py",
   "mimetype": "text/x-python",
   "name": "python",
   "nbconvert_exporter": "python",
   "pygments_lexer": "ipython3",
   "version": "3.9.1"
  }
 },
 "nbformat": 4,
 "nbformat_minor": 5
}
